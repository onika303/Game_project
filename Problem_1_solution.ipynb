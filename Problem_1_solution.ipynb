{
 "cells": [
  {
   "cell_type": "markdown",
   "metadata": {},
   "source": [
    "#### Вы работаете в компании, которая разрабатывает мобильные игры. К вам пришел менеджер с рядом задач по исследованию нескольких аспектов мобильного приложения:\n",
    "\n",
    "1. В первую очередь, его интересует показатель retention. Нужно написать функцию для его подсчета, используя Python.\n",
    "2. Помимо этого, в компании провели A/B тестирование наборов акционных предложений. На основе имеющихся данных необходимо определить, какой набор можно считать лучшим и на основе каких метрик стоит принять правильное решение.\n",
    "3. Предложите метрики для оценки результатов последнего прошедшего тематического события в игре."
   ]
  },
  {
   "cell_type": "code",
   "execution_count": 1,
   "metadata": {},
   "outputs": [],
   "source": [
    "# импортируем нужные библиотеки\n",
    "import pandas as pd\n",
    "import numpy as np\n",
    "import seaborn as sns\n",
    "import matplotlib.pyplot as plt\n",
    "import seaborn as sns\n",
    "import scipy\n",
    "from scipy import stats\n",
    "from scipy.stats import bootstrap\n",
    "from scipy.stats import norm\n",
    "import requests \n",
    "from urllib.parse import urlencode "
   ]
  },
  {
   "cell_type": "markdown",
   "metadata": {},
   "source": [
    "# Задание 1\n",
    "Retention – один из самых важных показателей в компании. Задача – написать функцию, которая будет считать retention игроков (по дням от даты регистрации игрока). "
   ]
  },
  {
   "cell_type": "code",
   "execution_count": 2,
   "metadata": {},
   "outputs": [],
   "source": [
    "# читаем файлы\n",
    "reg_data = pd.read_csv('~/shared/problem1-reg_data.csv', sep = ';') # данные о времени регистрации\n",
    "auth_data = pd.read_csv('~/shared/problem1-auth_data.csv', sep = ';') # данные о времени захода пользователей в игру"
   ]
  },
  {
   "cell_type": "code",
   "execution_count": 3,
   "metadata": {},
   "outputs": [
    {
     "data": {
      "text/html": [
       "<div>\n",
       "<style scoped>\n",
       "    .dataframe tbody tr th:only-of-type {\n",
       "        vertical-align: middle;\n",
       "    }\n",
       "\n",
       "    .dataframe tbody tr th {\n",
       "        vertical-align: top;\n",
       "    }\n",
       "\n",
       "    .dataframe thead th {\n",
       "        text-align: right;\n",
       "    }\n",
       "</style>\n",
       "<table border=\"1\" class=\"dataframe\">\n",
       "  <thead>\n",
       "    <tr style=\"text-align: right;\">\n",
       "      <th></th>\n",
       "      <th>reg_ts</th>\n",
       "      <th>uid</th>\n",
       "    </tr>\n",
       "  </thead>\n",
       "  <tbody>\n",
       "    <tr>\n",
       "      <th>0</th>\n",
       "      <td>911382223</td>\n",
       "      <td>1</td>\n",
       "    </tr>\n",
       "    <tr>\n",
       "      <th>1</th>\n",
       "      <td>932683089</td>\n",
       "      <td>2</td>\n",
       "    </tr>\n",
       "    <tr>\n",
       "      <th>2</th>\n",
       "      <td>947802447</td>\n",
       "      <td>3</td>\n",
       "    </tr>\n",
       "    <tr>\n",
       "      <th>3</th>\n",
       "      <td>959523541</td>\n",
       "      <td>4</td>\n",
       "    </tr>\n",
       "    <tr>\n",
       "      <th>4</th>\n",
       "      <td>969103313</td>\n",
       "      <td>5</td>\n",
       "    </tr>\n",
       "  </tbody>\n",
       "</table>\n",
       "</div>"
      ],
      "text/plain": [
       "      reg_ts  uid\n",
       "0  911382223    1\n",
       "1  932683089    2\n",
       "2  947802447    3\n",
       "3  959523541    4\n",
       "4  969103313    5"
      ]
     },
     "execution_count": 3,
     "metadata": {},
     "output_type": "execute_result"
    }
   ],
   "source": [
    "# для начала работаем с данными о времени регистрации пользователей\n",
    "# смотрим, как выглядит датасет\n",
    "reg_data.head()"
   ]
  },
  {
   "cell_type": "code",
   "execution_count": 4,
   "metadata": {},
   "outputs": [
    {
     "data": {
      "text/plain": [
       "(1000000, 2)"
      ]
     },
     "execution_count": 4,
     "metadata": {},
     "output_type": "execute_result"
    }
   ],
   "source": [
    "# смотрим размер датасета\n",
    "reg_data.shape"
   ]
  },
  {
   "cell_type": "code",
   "execution_count": 5,
   "metadata": {},
   "outputs": [
    {
     "data": {
      "text/plain": [
       "reg_ts    int64\n",
       "uid       int64\n",
       "dtype: object"
      ]
     },
     "execution_count": 5,
     "metadata": {},
     "output_type": "execute_result"
    }
   ],
   "source": [
    "# смотрим типы данных\n",
    "reg_data.dtypes"
   ]
  },
  {
   "cell_type": "code",
   "execution_count": 6,
   "metadata": {},
   "outputs": [],
   "source": [
    "# приводим колонку 'reg_ts' к нужному типу данных\n",
    "reg_data['reg_ts'] = pd.to_datetime(reg_data['reg_ts'], unit='s')"
   ]
  },
  {
   "cell_type": "code",
   "execution_count": 7,
   "metadata": {},
   "outputs": [
    {
     "data": {
      "text/plain": [
       "reg_ts    0\n",
       "uid       0\n",
       "dtype: int64"
      ]
     },
     "execution_count": 7,
     "metadata": {},
     "output_type": "execute_result"
    }
   ],
   "source": [
    "# проверяем на количество пропусков\n",
    "reg_data.isna().sum()"
   ]
  },
  {
   "cell_type": "code",
   "execution_count": 8,
   "metadata": {},
   "outputs": [
    {
     "data": {
      "text/html": [
       "<div>\n",
       "<style scoped>\n",
       "    .dataframe tbody tr th:only-of-type {\n",
       "        vertical-align: middle;\n",
       "    }\n",
       "\n",
       "    .dataframe tbody tr th {\n",
       "        vertical-align: top;\n",
       "    }\n",
       "\n",
       "    .dataframe thead th {\n",
       "        text-align: right;\n",
       "    }\n",
       "</style>\n",
       "<table border=\"1\" class=\"dataframe\">\n",
       "  <thead>\n",
       "    <tr style=\"text-align: right;\">\n",
       "      <th></th>\n",
       "      <th>auth_ts</th>\n",
       "      <th>uid</th>\n",
       "    </tr>\n",
       "  </thead>\n",
       "  <tbody>\n",
       "    <tr>\n",
       "      <th>0</th>\n",
       "      <td>911382223</td>\n",
       "      <td>1</td>\n",
       "    </tr>\n",
       "    <tr>\n",
       "      <th>1</th>\n",
       "      <td>932683089</td>\n",
       "      <td>2</td>\n",
       "    </tr>\n",
       "    <tr>\n",
       "      <th>2</th>\n",
       "      <td>932921206</td>\n",
       "      <td>2</td>\n",
       "    </tr>\n",
       "    <tr>\n",
       "      <th>3</th>\n",
       "      <td>933393015</td>\n",
       "      <td>2</td>\n",
       "    </tr>\n",
       "    <tr>\n",
       "      <th>4</th>\n",
       "      <td>933875379</td>\n",
       "      <td>2</td>\n",
       "    </tr>\n",
       "  </tbody>\n",
       "</table>\n",
       "</div>"
      ],
      "text/plain": [
       "     auth_ts  uid\n",
       "0  911382223    1\n",
       "1  932683089    2\n",
       "2  932921206    2\n",
       "3  933393015    2\n",
       "4  933875379    2"
      ]
     },
     "execution_count": 8,
     "metadata": {},
     "output_type": "execute_result"
    }
   ],
   "source": [
    "# пропусков нет, переходим к данным о времени захода пользователей в игру. Делаем то же самое, что и с предыдущим датасетом\n",
    "# смотрим, как выглядит датасет\n",
    "auth_data.head()"
   ]
  },
  {
   "cell_type": "code",
   "execution_count": 9,
   "metadata": {},
   "outputs": [
    {
     "data": {
      "text/plain": [
       "(9601013, 2)"
      ]
     },
     "execution_count": 9,
     "metadata": {},
     "output_type": "execute_result"
    }
   ],
   "source": [
    "# смотрим размер датасета\n",
    "auth_data.shape"
   ]
  },
  {
   "cell_type": "code",
   "execution_count": 10,
   "metadata": {},
   "outputs": [
    {
     "data": {
      "text/plain": [
       "auth_ts    int64\n",
       "uid        int64\n",
       "dtype: object"
      ]
     },
     "execution_count": 10,
     "metadata": {},
     "output_type": "execute_result"
    }
   ],
   "source": [
    "# смотрим типы данных\n",
    "auth_data.dtypes"
   ]
  },
  {
   "cell_type": "code",
   "execution_count": 11,
   "metadata": {},
   "outputs": [],
   "source": [
    "# приводим колонку 'auth_ts' к нужному типу данных\n",
    "auth_data['auth_ts'] = pd.to_datetime(auth_data['auth_ts'], unit='s')"
   ]
  },
  {
   "cell_type": "code",
   "execution_count": 12,
   "metadata": {},
   "outputs": [
    {
     "data": {
      "text/plain": [
       "auth_ts    0\n",
       "uid        0\n",
       "dtype: int64"
      ]
     },
     "execution_count": 12,
     "metadata": {},
     "output_type": "execute_result"
    }
   ],
   "source": [
    "# проверяем на количество пропусков\n",
    "auth_data.isna().sum()"
   ]
  },
  {
   "cell_type": "code",
   "execution_count": 13,
   "metadata": {},
   "outputs": [
    {
     "data": {
      "text/html": [
       "<div>\n",
       "<style scoped>\n",
       "    .dataframe tbody tr th:only-of-type {\n",
       "        vertical-align: middle;\n",
       "    }\n",
       "\n",
       "    .dataframe tbody tr th {\n",
       "        vertical-align: top;\n",
       "    }\n",
       "\n",
       "    .dataframe thead th {\n",
       "        text-align: right;\n",
       "    }\n",
       "</style>\n",
       "<table border=\"1\" class=\"dataframe\">\n",
       "  <thead>\n",
       "    <tr style=\"text-align: right;\">\n",
       "      <th></th>\n",
       "      <th>reg_ts</th>\n",
       "      <th>uid</th>\n",
       "    </tr>\n",
       "  </thead>\n",
       "  <tbody>\n",
       "    <tr>\n",
       "      <th>0</th>\n",
       "      <td>1998-11-18 09:43:43</td>\n",
       "      <td>1</td>\n",
       "    </tr>\n",
       "    <tr>\n",
       "      <th>1</th>\n",
       "      <td>1999-07-22 22:38:09</td>\n",
       "      <td>2</td>\n",
       "    </tr>\n",
       "    <tr>\n",
       "      <th>2</th>\n",
       "      <td>2000-01-13 22:27:27</td>\n",
       "      <td>3</td>\n",
       "    </tr>\n",
       "    <tr>\n",
       "      <th>3</th>\n",
       "      <td>2000-05-28 14:19:01</td>\n",
       "      <td>4</td>\n",
       "    </tr>\n",
       "    <tr>\n",
       "      <th>4</th>\n",
       "      <td>2000-09-16 11:21:53</td>\n",
       "      <td>5</td>\n",
       "    </tr>\n",
       "  </tbody>\n",
       "</table>\n",
       "</div>"
      ],
      "text/plain": [
       "               reg_ts  uid\n",
       "0 1998-11-18 09:43:43    1\n",
       "1 1999-07-22 22:38:09    2\n",
       "2 2000-01-13 22:27:27    3\n",
       "3 2000-05-28 14:19:01    4\n",
       "4 2000-09-16 11:21:53    5"
      ]
     },
     "execution_count": 13,
     "metadata": {},
     "output_type": "execute_result"
    }
   ],
   "source": [
    "# смотрим итог\n",
    "reg_data.head()"
   ]
  },
  {
   "cell_type": "code",
   "execution_count": 14,
   "metadata": {},
   "outputs": [
    {
     "data": {
      "text/html": [
       "<div>\n",
       "<style scoped>\n",
       "    .dataframe tbody tr th:only-of-type {\n",
       "        vertical-align: middle;\n",
       "    }\n",
       "\n",
       "    .dataframe tbody tr th {\n",
       "        vertical-align: top;\n",
       "    }\n",
       "\n",
       "    .dataframe thead th {\n",
       "        text-align: right;\n",
       "    }\n",
       "</style>\n",
       "<table border=\"1\" class=\"dataframe\">\n",
       "  <thead>\n",
       "    <tr style=\"text-align: right;\">\n",
       "      <th></th>\n",
       "      <th>auth_ts</th>\n",
       "      <th>uid</th>\n",
       "    </tr>\n",
       "  </thead>\n",
       "  <tbody>\n",
       "    <tr>\n",
       "      <th>0</th>\n",
       "      <td>1998-11-18 09:43:43</td>\n",
       "      <td>1</td>\n",
       "    </tr>\n",
       "    <tr>\n",
       "      <th>1</th>\n",
       "      <td>1999-07-22 22:38:09</td>\n",
       "      <td>2</td>\n",
       "    </tr>\n",
       "    <tr>\n",
       "      <th>2</th>\n",
       "      <td>1999-07-25 16:46:46</td>\n",
       "      <td>2</td>\n",
       "    </tr>\n",
       "    <tr>\n",
       "      <th>3</th>\n",
       "      <td>1999-07-31 03:50:15</td>\n",
       "      <td>2</td>\n",
       "    </tr>\n",
       "    <tr>\n",
       "      <th>4</th>\n",
       "      <td>1999-08-05 17:49:39</td>\n",
       "      <td>2</td>\n",
       "    </tr>\n",
       "  </tbody>\n",
       "</table>\n",
       "</div>"
      ],
      "text/plain": [
       "              auth_ts  uid\n",
       "0 1998-11-18 09:43:43    1\n",
       "1 1999-07-22 22:38:09    2\n",
       "2 1999-07-25 16:46:46    2\n",
       "3 1999-07-31 03:50:15    2\n",
       "4 1999-08-05 17:49:39    2"
      ]
     },
     "execution_count": 14,
     "metadata": {},
     "output_type": "execute_result"
    }
   ],
   "source": [
    "auth_data.head()"
   ]
  },
  {
   "cell_type": "code",
   "execution_count": 15,
   "metadata": {},
   "outputs": [],
   "source": [
    "def calculate_retention(reg_data, auth_data, date_start, date_end):\n",
    "    # объединим таблицы по уникальному id\n",
    "    merged_df = pd.merge(reg_data, auth_data, on='uid')\n",
    "    \n",
    "    # приведем колонки времени регистрации и автторизации к формату даты\n",
    "    merged_df['reg_ts'] = pd.to_datetime(merged_df['reg_ts'], unit='s').dt.floor('d')\n",
    "    merged_df['auth_ts'] = pd.to_datetime(merged_df['auth_ts'], unit='s').dt.floor('d')\n",
    "    \n",
    "    # рассчитаем разницу между датой регистрации и датой авторизации (целевого действия)\n",
    "    merged_df['days_since_registration'] = (merged_df['auth_ts'] - merged_df['reg_ts'])\n",
    "    \n",
    "    # оставим только интересующий период\n",
    "    merged_df = merged_df.query('@date_start <= reg_ts <= @date_end')\n",
    "    \n",
    "    # создадим когорты по дате регистрации\n",
    "    cohorts = merged_df.groupby(['reg_ts', 'days_since_registration'], as_index=False).agg({'uid': 'nunique'})\n",
    "    \n",
    "    # переименуем колонку\n",
    "    cohorts = cohorts.rename(columns={'reg_ts': 'cohort'})\n",
    "    \n",
    "    # изменим таблицу для визуализации\n",
    "    retention_rates = cohorts.pivot(index='cohort', columns='days_since_registration', values='uid')\n",
    "    retention_rates = retention_rates.div(retention_rates.iloc[:,0], axis = 0)\n",
    "    retention_rates = retention_rates.style.format(\"{:.2%}\", na_rep='')\n",
    "    \n",
    "    return retention_rates"
   ]
  },
  {
   "cell_type": "code",
   "execution_count": 16,
   "metadata": {},
   "outputs": [
    {
     "data": {
      "text/html": [
       "<style  type=\"text/css\" >\n",
       "</style><table id=\"T_fd73f7f0_03fc_11ef_bdbb_96000040dfb6\" ><thead>    <tr>        <th class=\"index_name level0\" >days_since_registration</th>        <th class=\"col_heading level0 col0\" >0 days 00:00:00</th>        <th class=\"col_heading level0 col1\" >1 days 00:00:00</th>        <th class=\"col_heading level0 col2\" >2 days 00:00:00</th>        <th class=\"col_heading level0 col3\" >3 days 00:00:00</th>        <th class=\"col_heading level0 col4\" >4 days 00:00:00</th>        <th class=\"col_heading level0 col5\" >5 days 00:00:00</th>        <th class=\"col_heading level0 col6\" >6 days 00:00:00</th>        <th class=\"col_heading level0 col7\" >7 days 00:00:00</th>        <th class=\"col_heading level0 col8\" >8 days 00:00:00</th>        <th class=\"col_heading level0 col9\" >9 days 00:00:00</th>        <th class=\"col_heading level0 col10\" >10 days 00:00:00</th>        <th class=\"col_heading level0 col11\" >11 days 00:00:00</th>        <th class=\"col_heading level0 col12\" >12 days 00:00:00</th>        <th class=\"col_heading level0 col13\" >13 days 00:00:00</th>        <th class=\"col_heading level0 col14\" >14 days 00:00:00</th>    </tr>    <tr>        <th class=\"index_name level0\" >cohort</th>        <th class=\"blank\" ></th>        <th class=\"blank\" ></th>        <th class=\"blank\" ></th>        <th class=\"blank\" ></th>        <th class=\"blank\" ></th>        <th class=\"blank\" ></th>        <th class=\"blank\" ></th>        <th class=\"blank\" ></th>        <th class=\"blank\" ></th>        <th class=\"blank\" ></th>        <th class=\"blank\" ></th>        <th class=\"blank\" ></th>        <th class=\"blank\" ></th>        <th class=\"blank\" ></th>        <th class=\"blank\" ></th>    </tr></thead><tbody>\n",
       "                <tr>\n",
       "                        <th id=\"T_fd73f7f0_03fc_11ef_bdbb_96000040dfb6level0_row0\" class=\"row_heading level0 row0\" >2020-09-09 00:00:00</th>\n",
       "                        <td id=\"T_fd73f7f0_03fc_11ef_bdbb_96000040dfb6row0_col0\" class=\"data row0 col0\" >100.00%</td>\n",
       "                        <td id=\"T_fd73f7f0_03fc_11ef_bdbb_96000040dfb6row0_col1\" class=\"data row0 col1\" >1.74%</td>\n",
       "                        <td id=\"T_fd73f7f0_03fc_11ef_bdbb_96000040dfb6row0_col2\" class=\"data row0 col2\" >3.24%</td>\n",
       "                        <td id=\"T_fd73f7f0_03fc_11ef_bdbb_96000040dfb6row0_col3\" class=\"data row0 col3\" >4.67%</td>\n",
       "                        <td id=\"T_fd73f7f0_03fc_11ef_bdbb_96000040dfb6row0_col4\" class=\"data row0 col4\" >5.72%</td>\n",
       "                        <td id=\"T_fd73f7f0_03fc_11ef_bdbb_96000040dfb6row0_col5\" class=\"data row0 col5\" >6.66%</td>\n",
       "                        <td id=\"T_fd73f7f0_03fc_11ef_bdbb_96000040dfb6row0_col6\" class=\"data row0 col6\" >5.72%</td>\n",
       "                        <td id=\"T_fd73f7f0_03fc_11ef_bdbb_96000040dfb6row0_col7\" class=\"data row0 col7\" >5.91%</td>\n",
       "                        <td id=\"T_fd73f7f0_03fc_11ef_bdbb_96000040dfb6row0_col8\" class=\"data row0 col8\" >4.36%</td>\n",
       "                        <td id=\"T_fd73f7f0_03fc_11ef_bdbb_96000040dfb6row0_col9\" class=\"data row0 col9\" >5.04%</td>\n",
       "                        <td id=\"T_fd73f7f0_03fc_11ef_bdbb_96000040dfb6row0_col10\" class=\"data row0 col10\" >3.73%</td>\n",
       "                        <td id=\"T_fd73f7f0_03fc_11ef_bdbb_96000040dfb6row0_col11\" class=\"data row0 col11\" >5.04%</td>\n",
       "                        <td id=\"T_fd73f7f0_03fc_11ef_bdbb_96000040dfb6row0_col12\" class=\"data row0 col12\" >4.79%</td>\n",
       "                        <td id=\"T_fd73f7f0_03fc_11ef_bdbb_96000040dfb6row0_col13\" class=\"data row0 col13\" >4.85%</td>\n",
       "                        <td id=\"T_fd73f7f0_03fc_11ef_bdbb_96000040dfb6row0_col14\" class=\"data row0 col14\" >2.43%</td>\n",
       "            </tr>\n",
       "            <tr>\n",
       "                        <th id=\"T_fd73f7f0_03fc_11ef_bdbb_96000040dfb6level0_row1\" class=\"row_heading level0 row1\" >2020-09-10 00:00:00</th>\n",
       "                        <td id=\"T_fd73f7f0_03fc_11ef_bdbb_96000040dfb6row1_col0\" class=\"data row1 col0\" >100.00%</td>\n",
       "                        <td id=\"T_fd73f7f0_03fc_11ef_bdbb_96000040dfb6row1_col1\" class=\"data row1 col1\" >2.05%</td>\n",
       "                        <td id=\"T_fd73f7f0_03fc_11ef_bdbb_96000040dfb6row1_col2\" class=\"data row1 col2\" >4.29%</td>\n",
       "                        <td id=\"T_fd73f7f0_03fc_11ef_bdbb_96000040dfb6row1_col3\" class=\"data row1 col3\" >4.79%</td>\n",
       "                        <td id=\"T_fd73f7f0_03fc_11ef_bdbb_96000040dfb6row1_col4\" class=\"data row1 col4\" >4.23%</td>\n",
       "                        <td id=\"T_fd73f7f0_03fc_11ef_bdbb_96000040dfb6row1_col5\" class=\"data row1 col5\" >6.77%</td>\n",
       "                        <td id=\"T_fd73f7f0_03fc_11ef_bdbb_96000040dfb6row1_col6\" class=\"data row1 col6\" >6.28%</td>\n",
       "                        <td id=\"T_fd73f7f0_03fc_11ef_bdbb_96000040dfb6row1_col7\" class=\"data row1 col7\" >7.09%</td>\n",
       "                        <td id=\"T_fd73f7f0_03fc_11ef_bdbb_96000040dfb6row1_col8\" class=\"data row1 col8\" >4.85%</td>\n",
       "                        <td id=\"T_fd73f7f0_03fc_11ef_bdbb_96000040dfb6row1_col9\" class=\"data row1 col9\" >4.54%</td>\n",
       "                        <td id=\"T_fd73f7f0_03fc_11ef_bdbb_96000040dfb6row1_col10\" class=\"data row1 col10\" >5.66%</td>\n",
       "                        <td id=\"T_fd73f7f0_03fc_11ef_bdbb_96000040dfb6row1_col11\" class=\"data row1 col11\" >4.72%</td>\n",
       "                        <td id=\"T_fd73f7f0_03fc_11ef_bdbb_96000040dfb6row1_col12\" class=\"data row1 col12\" >5.22%</td>\n",
       "                        <td id=\"T_fd73f7f0_03fc_11ef_bdbb_96000040dfb6row1_col13\" class=\"data row1 col13\" >3.60%</td>\n",
       "                        <td id=\"T_fd73f7f0_03fc_11ef_bdbb_96000040dfb6row1_col14\" class=\"data row1 col14\" ></td>\n",
       "            </tr>\n",
       "            <tr>\n",
       "                        <th id=\"T_fd73f7f0_03fc_11ef_bdbb_96000040dfb6level0_row2\" class=\"row_heading level0 row2\" >2020-09-11 00:00:00</th>\n",
       "                        <td id=\"T_fd73f7f0_03fc_11ef_bdbb_96000040dfb6row2_col0\" class=\"data row2 col0\" >100.00%</td>\n",
       "                        <td id=\"T_fd73f7f0_03fc_11ef_bdbb_96000040dfb6row2_col1\" class=\"data row2 col1\" >1.30%</td>\n",
       "                        <td id=\"T_fd73f7f0_03fc_11ef_bdbb_96000040dfb6row2_col2\" class=\"data row2 col2\" >4.03%</td>\n",
       "                        <td id=\"T_fd73f7f0_03fc_11ef_bdbb_96000040dfb6row2_col3\" class=\"data row2 col3\" >4.53%</td>\n",
       "                        <td id=\"T_fd73f7f0_03fc_11ef_bdbb_96000040dfb6row2_col4\" class=\"data row2 col4\" >5.65%</td>\n",
       "                        <td id=\"T_fd73f7f0_03fc_11ef_bdbb_96000040dfb6row2_col5\" class=\"data row2 col5\" >5.71%</td>\n",
       "                        <td id=\"T_fd73f7f0_03fc_11ef_bdbb_96000040dfb6row2_col6\" class=\"data row2 col6\" >6.70%</td>\n",
       "                        <td id=\"T_fd73f7f0_03fc_11ef_bdbb_96000040dfb6row2_col7\" class=\"data row2 col7\" >6.33%</td>\n",
       "                        <td id=\"T_fd73f7f0_03fc_11ef_bdbb_96000040dfb6row2_col8\" class=\"data row2 col8\" >4.40%</td>\n",
       "                        <td id=\"T_fd73f7f0_03fc_11ef_bdbb_96000040dfb6row2_col9\" class=\"data row2 col9\" >4.65%</td>\n",
       "                        <td id=\"T_fd73f7f0_03fc_11ef_bdbb_96000040dfb6row2_col10\" class=\"data row2 col10\" >5.40%</td>\n",
       "                        <td id=\"T_fd73f7f0_03fc_11ef_bdbb_96000040dfb6row2_col11\" class=\"data row2 col11\" >5.33%</td>\n",
       "                        <td id=\"T_fd73f7f0_03fc_11ef_bdbb_96000040dfb6row2_col12\" class=\"data row2 col12\" >3.29%</td>\n",
       "                        <td id=\"T_fd73f7f0_03fc_11ef_bdbb_96000040dfb6row2_col13\" class=\"data row2 col13\" ></td>\n",
       "                        <td id=\"T_fd73f7f0_03fc_11ef_bdbb_96000040dfb6row2_col14\" class=\"data row2 col14\" ></td>\n",
       "            </tr>\n",
       "            <tr>\n",
       "                        <th id=\"T_fd73f7f0_03fc_11ef_bdbb_96000040dfb6level0_row3\" class=\"row_heading level0 row3\" >2020-09-12 00:00:00</th>\n",
       "                        <td id=\"T_fd73f7f0_03fc_11ef_bdbb_96000040dfb6row3_col0\" class=\"data row3 col0\" >100.00%</td>\n",
       "                        <td id=\"T_fd73f7f0_03fc_11ef_bdbb_96000040dfb6row3_col1\" class=\"data row3 col1\" >1.92%</td>\n",
       "                        <td id=\"T_fd73f7f0_03fc_11ef_bdbb_96000040dfb6row3_col2\" class=\"data row3 col2\" >3.84%</td>\n",
       "                        <td id=\"T_fd73f7f0_03fc_11ef_bdbb_96000040dfb6row3_col3\" class=\"data row3 col3\" >4.71%</td>\n",
       "                        <td id=\"T_fd73f7f0_03fc_11ef_bdbb_96000040dfb6row3_col4\" class=\"data row3 col4\" >4.65%</td>\n",
       "                        <td id=\"T_fd73f7f0_03fc_11ef_bdbb_96000040dfb6row3_col5\" class=\"data row3 col5\" >6.07%</td>\n",
       "                        <td id=\"T_fd73f7f0_03fc_11ef_bdbb_96000040dfb6row3_col6\" class=\"data row3 col6\" >6.57%</td>\n",
       "                        <td id=\"T_fd73f7f0_03fc_11ef_bdbb_96000040dfb6row3_col7\" class=\"data row3 col7\" >5.76%</td>\n",
       "                        <td id=\"T_fd73f7f0_03fc_11ef_bdbb_96000040dfb6row3_col8\" class=\"data row3 col8\" >5.27%</td>\n",
       "                        <td id=\"T_fd73f7f0_03fc_11ef_bdbb_96000040dfb6row3_col9\" class=\"data row3 col9\" >5.14%</td>\n",
       "                        <td id=\"T_fd73f7f0_03fc_11ef_bdbb_96000040dfb6row3_col10\" class=\"data row3 col10\" >5.70%</td>\n",
       "                        <td id=\"T_fd73f7f0_03fc_11ef_bdbb_96000040dfb6row3_col11\" class=\"data row3 col11\" >2.54%</td>\n",
       "                        <td id=\"T_fd73f7f0_03fc_11ef_bdbb_96000040dfb6row3_col12\" class=\"data row3 col12\" ></td>\n",
       "                        <td id=\"T_fd73f7f0_03fc_11ef_bdbb_96000040dfb6row3_col13\" class=\"data row3 col13\" ></td>\n",
       "                        <td id=\"T_fd73f7f0_03fc_11ef_bdbb_96000040dfb6row3_col14\" class=\"data row3 col14\" ></td>\n",
       "            </tr>\n",
       "            <tr>\n",
       "                        <th id=\"T_fd73f7f0_03fc_11ef_bdbb_96000040dfb6level0_row4\" class=\"row_heading level0 row4\" >2020-09-13 00:00:00</th>\n",
       "                        <td id=\"T_fd73f7f0_03fc_11ef_bdbb_96000040dfb6row4_col0\" class=\"data row4 col0\" >100.00%</td>\n",
       "                        <td id=\"T_fd73f7f0_03fc_11ef_bdbb_96000040dfb6row4_col1\" class=\"data row4 col1\" >1.98%</td>\n",
       "                        <td id=\"T_fd73f7f0_03fc_11ef_bdbb_96000040dfb6row4_col2\" class=\"data row4 col2\" >4.08%</td>\n",
       "                        <td id=\"T_fd73f7f0_03fc_11ef_bdbb_96000040dfb6row4_col3\" class=\"data row4 col3\" >4.26%</td>\n",
       "                        <td id=\"T_fd73f7f0_03fc_11ef_bdbb_96000040dfb6row4_col4\" class=\"data row4 col4\" >5.13%</td>\n",
       "                        <td id=\"T_fd73f7f0_03fc_11ef_bdbb_96000040dfb6row4_col5\" class=\"data row4 col5\" >6.55%</td>\n",
       "                        <td id=\"T_fd73f7f0_03fc_11ef_bdbb_96000040dfb6row4_col6\" class=\"data row4 col6\" >6.49%</td>\n",
       "                        <td id=\"T_fd73f7f0_03fc_11ef_bdbb_96000040dfb6row4_col7\" class=\"data row4 col7\" >4.94%</td>\n",
       "                        <td id=\"T_fd73f7f0_03fc_11ef_bdbb_96000040dfb6row4_col8\" class=\"data row4 col8\" >4.70%</td>\n",
       "                        <td id=\"T_fd73f7f0_03fc_11ef_bdbb_96000040dfb6row4_col9\" class=\"data row4 col9\" >4.94%</td>\n",
       "                        <td id=\"T_fd73f7f0_03fc_11ef_bdbb_96000040dfb6row4_col10\" class=\"data row4 col10\" >3.58%</td>\n",
       "                        <td id=\"T_fd73f7f0_03fc_11ef_bdbb_96000040dfb6row4_col11\" class=\"data row4 col11\" ></td>\n",
       "                        <td id=\"T_fd73f7f0_03fc_11ef_bdbb_96000040dfb6row4_col12\" class=\"data row4 col12\" ></td>\n",
       "                        <td id=\"T_fd73f7f0_03fc_11ef_bdbb_96000040dfb6row4_col13\" class=\"data row4 col13\" ></td>\n",
       "                        <td id=\"T_fd73f7f0_03fc_11ef_bdbb_96000040dfb6row4_col14\" class=\"data row4 col14\" ></td>\n",
       "            </tr>\n",
       "            <tr>\n",
       "                        <th id=\"T_fd73f7f0_03fc_11ef_bdbb_96000040dfb6level0_row5\" class=\"row_heading level0 row5\" >2020-09-14 00:00:00</th>\n",
       "                        <td id=\"T_fd73f7f0_03fc_11ef_bdbb_96000040dfb6row5_col0\" class=\"data row5 col0\" >100.00%</td>\n",
       "                        <td id=\"T_fd73f7f0_03fc_11ef_bdbb_96000040dfb6row5_col1\" class=\"data row5 col1\" >2.22%</td>\n",
       "                        <td id=\"T_fd73f7f0_03fc_11ef_bdbb_96000040dfb6row5_col2\" class=\"data row5 col2\" >3.83%</td>\n",
       "                        <td id=\"T_fd73f7f0_03fc_11ef_bdbb_96000040dfb6row5_col3\" class=\"data row5 col3\" >4.51%</td>\n",
       "                        <td id=\"T_fd73f7f0_03fc_11ef_bdbb_96000040dfb6row5_col4\" class=\"data row5 col4\" >5.31%</td>\n",
       "                        <td id=\"T_fd73f7f0_03fc_11ef_bdbb_96000040dfb6row5_col5\" class=\"data row5 col5\" >6.49%</td>\n",
       "                        <td id=\"T_fd73f7f0_03fc_11ef_bdbb_96000040dfb6row5_col6\" class=\"data row5 col6\" >6.98%</td>\n",
       "                        <td id=\"T_fd73f7f0_03fc_11ef_bdbb_96000040dfb6row5_col7\" class=\"data row5 col7\" >6.30%</td>\n",
       "                        <td id=\"T_fd73f7f0_03fc_11ef_bdbb_96000040dfb6row5_col8\" class=\"data row5 col8\" >4.45%</td>\n",
       "                        <td id=\"T_fd73f7f0_03fc_11ef_bdbb_96000040dfb6row5_col9\" class=\"data row5 col9\" >2.90%</td>\n",
       "                        <td id=\"T_fd73f7f0_03fc_11ef_bdbb_96000040dfb6row5_col10\" class=\"data row5 col10\" ></td>\n",
       "                        <td id=\"T_fd73f7f0_03fc_11ef_bdbb_96000040dfb6row5_col11\" class=\"data row5 col11\" ></td>\n",
       "                        <td id=\"T_fd73f7f0_03fc_11ef_bdbb_96000040dfb6row5_col12\" class=\"data row5 col12\" ></td>\n",
       "                        <td id=\"T_fd73f7f0_03fc_11ef_bdbb_96000040dfb6row5_col13\" class=\"data row5 col13\" ></td>\n",
       "                        <td id=\"T_fd73f7f0_03fc_11ef_bdbb_96000040dfb6row5_col14\" class=\"data row5 col14\" ></td>\n",
       "            </tr>\n",
       "            <tr>\n",
       "                        <th id=\"T_fd73f7f0_03fc_11ef_bdbb_96000040dfb6level0_row6\" class=\"row_heading level0 row6\" >2020-09-15 00:00:00</th>\n",
       "                        <td id=\"T_fd73f7f0_03fc_11ef_bdbb_96000040dfb6row6_col0\" class=\"data row6 col0\" >100.00%</td>\n",
       "                        <td id=\"T_fd73f7f0_03fc_11ef_bdbb_96000040dfb6row6_col1\" class=\"data row6 col1\" >2.22%</td>\n",
       "                        <td id=\"T_fd73f7f0_03fc_11ef_bdbb_96000040dfb6row6_col2\" class=\"data row6 col2\" >4.07%</td>\n",
       "                        <td id=\"T_fd73f7f0_03fc_11ef_bdbb_96000040dfb6row6_col3\" class=\"data row6 col3\" >4.56%</td>\n",
       "                        <td id=\"T_fd73f7f0_03fc_11ef_bdbb_96000040dfb6row6_col4\" class=\"data row6 col4\" >6.04%</td>\n",
       "                        <td id=\"T_fd73f7f0_03fc_11ef_bdbb_96000040dfb6row6_col5\" class=\"data row6 col5\" >5.61%</td>\n",
       "                        <td id=\"T_fd73f7f0_03fc_11ef_bdbb_96000040dfb6row6_col6\" class=\"data row6 col6\" >6.90%</td>\n",
       "                        <td id=\"T_fd73f7f0_03fc_11ef_bdbb_96000040dfb6row6_col7\" class=\"data row6 col7\" >5.67%</td>\n",
       "                        <td id=\"T_fd73f7f0_03fc_11ef_bdbb_96000040dfb6row6_col8\" class=\"data row6 col8\" >2.46%</td>\n",
       "                        <td id=\"T_fd73f7f0_03fc_11ef_bdbb_96000040dfb6row6_col9\" class=\"data row6 col9\" ></td>\n",
       "                        <td id=\"T_fd73f7f0_03fc_11ef_bdbb_96000040dfb6row6_col10\" class=\"data row6 col10\" ></td>\n",
       "                        <td id=\"T_fd73f7f0_03fc_11ef_bdbb_96000040dfb6row6_col11\" class=\"data row6 col11\" ></td>\n",
       "                        <td id=\"T_fd73f7f0_03fc_11ef_bdbb_96000040dfb6row6_col12\" class=\"data row6 col12\" ></td>\n",
       "                        <td id=\"T_fd73f7f0_03fc_11ef_bdbb_96000040dfb6row6_col13\" class=\"data row6 col13\" ></td>\n",
       "                        <td id=\"T_fd73f7f0_03fc_11ef_bdbb_96000040dfb6row6_col14\" class=\"data row6 col14\" ></td>\n",
       "            </tr>\n",
       "            <tr>\n",
       "                        <th id=\"T_fd73f7f0_03fc_11ef_bdbb_96000040dfb6level0_row7\" class=\"row_heading level0 row7\" >2020-09-16 00:00:00</th>\n",
       "                        <td id=\"T_fd73f7f0_03fc_11ef_bdbb_96000040dfb6row7_col0\" class=\"data row7 col0\" >100.00%</td>\n",
       "                        <td id=\"T_fd73f7f0_03fc_11ef_bdbb_96000040dfb6row7_col1\" class=\"data row7 col1\" >1.91%</td>\n",
       "                        <td id=\"T_fd73f7f0_03fc_11ef_bdbb_96000040dfb6row7_col2\" class=\"data row7 col2\" >4.25%</td>\n",
       "                        <td id=\"T_fd73f7f0_03fc_11ef_bdbb_96000040dfb6row7_col3\" class=\"data row7 col3\" >4.62%</td>\n",
       "                        <td id=\"T_fd73f7f0_03fc_11ef_bdbb_96000040dfb6row7_col4\" class=\"data row7 col4\" >4.68%</td>\n",
       "                        <td id=\"T_fd73f7f0_03fc_11ef_bdbb_96000040dfb6row7_col5\" class=\"data row7 col5\" >6.77%</td>\n",
       "                        <td id=\"T_fd73f7f0_03fc_11ef_bdbb_96000040dfb6row7_col6\" class=\"data row7 col6\" >6.95%</td>\n",
       "                        <td id=\"T_fd73f7f0_03fc_11ef_bdbb_96000040dfb6row7_col7\" class=\"data row7 col7\" >3.38%</td>\n",
       "                        <td id=\"T_fd73f7f0_03fc_11ef_bdbb_96000040dfb6row7_col8\" class=\"data row7 col8\" ></td>\n",
       "                        <td id=\"T_fd73f7f0_03fc_11ef_bdbb_96000040dfb6row7_col9\" class=\"data row7 col9\" ></td>\n",
       "                        <td id=\"T_fd73f7f0_03fc_11ef_bdbb_96000040dfb6row7_col10\" class=\"data row7 col10\" ></td>\n",
       "                        <td id=\"T_fd73f7f0_03fc_11ef_bdbb_96000040dfb6row7_col11\" class=\"data row7 col11\" ></td>\n",
       "                        <td id=\"T_fd73f7f0_03fc_11ef_bdbb_96000040dfb6row7_col12\" class=\"data row7 col12\" ></td>\n",
       "                        <td id=\"T_fd73f7f0_03fc_11ef_bdbb_96000040dfb6row7_col13\" class=\"data row7 col13\" ></td>\n",
       "                        <td id=\"T_fd73f7f0_03fc_11ef_bdbb_96000040dfb6row7_col14\" class=\"data row7 col14\" ></td>\n",
       "            </tr>\n",
       "            <tr>\n",
       "                        <th id=\"T_fd73f7f0_03fc_11ef_bdbb_96000040dfb6level0_row8\" class=\"row_heading level0 row8\" >2020-09-17 00:00:00</th>\n",
       "                        <td id=\"T_fd73f7f0_03fc_11ef_bdbb_96000040dfb6row8_col0\" class=\"data row8 col0\" >100.00%</td>\n",
       "                        <td id=\"T_fd73f7f0_03fc_11ef_bdbb_96000040dfb6row8_col1\" class=\"data row8 col1\" >1.66%</td>\n",
       "                        <td id=\"T_fd73f7f0_03fc_11ef_bdbb_96000040dfb6row8_col2\" class=\"data row8 col2\" >4.30%</td>\n",
       "                        <td id=\"T_fd73f7f0_03fc_11ef_bdbb_96000040dfb6row8_col3\" class=\"data row8 col3\" >4.55%</td>\n",
       "                        <td id=\"T_fd73f7f0_03fc_11ef_bdbb_96000040dfb6row8_col4\" class=\"data row8 col4\" >5.47%</td>\n",
       "                        <td id=\"T_fd73f7f0_03fc_11ef_bdbb_96000040dfb6row8_col5\" class=\"data row8 col5\" >6.27%</td>\n",
       "                        <td id=\"T_fd73f7f0_03fc_11ef_bdbb_96000040dfb6row8_col6\" class=\"data row8 col6\" >4.24%</td>\n",
       "                        <td id=\"T_fd73f7f0_03fc_11ef_bdbb_96000040dfb6row8_col7\" class=\"data row8 col7\" ></td>\n",
       "                        <td id=\"T_fd73f7f0_03fc_11ef_bdbb_96000040dfb6row8_col8\" class=\"data row8 col8\" ></td>\n",
       "                        <td id=\"T_fd73f7f0_03fc_11ef_bdbb_96000040dfb6row8_col9\" class=\"data row8 col9\" ></td>\n",
       "                        <td id=\"T_fd73f7f0_03fc_11ef_bdbb_96000040dfb6row8_col10\" class=\"data row8 col10\" ></td>\n",
       "                        <td id=\"T_fd73f7f0_03fc_11ef_bdbb_96000040dfb6row8_col11\" class=\"data row8 col11\" ></td>\n",
       "                        <td id=\"T_fd73f7f0_03fc_11ef_bdbb_96000040dfb6row8_col12\" class=\"data row8 col12\" ></td>\n",
       "                        <td id=\"T_fd73f7f0_03fc_11ef_bdbb_96000040dfb6row8_col13\" class=\"data row8 col13\" ></td>\n",
       "                        <td id=\"T_fd73f7f0_03fc_11ef_bdbb_96000040dfb6row8_col14\" class=\"data row8 col14\" ></td>\n",
       "            </tr>\n",
       "            <tr>\n",
       "                        <th id=\"T_fd73f7f0_03fc_11ef_bdbb_96000040dfb6level0_row9\" class=\"row_heading level0 row9\" >2020-09-18 00:00:00</th>\n",
       "                        <td id=\"T_fd73f7f0_03fc_11ef_bdbb_96000040dfb6row9_col0\" class=\"data row9 col0\" >100.00%</td>\n",
       "                        <td id=\"T_fd73f7f0_03fc_11ef_bdbb_96000040dfb6row9_col1\" class=\"data row9 col1\" >1.90%</td>\n",
       "                        <td id=\"T_fd73f7f0_03fc_11ef_bdbb_96000040dfb6row9_col2\" class=\"data row9 col2\" >4.54%</td>\n",
       "                        <td id=\"T_fd73f7f0_03fc_11ef_bdbb_96000040dfb6row9_col3\" class=\"data row9 col3\" >4.23%</td>\n",
       "                        <td id=\"T_fd73f7f0_03fc_11ef_bdbb_96000040dfb6row9_col4\" class=\"data row9 col4\" >5.21%</td>\n",
       "                        <td id=\"T_fd73f7f0_03fc_11ef_bdbb_96000040dfb6row9_col5\" class=\"data row9 col5\" >3.74%</td>\n",
       "                        <td id=\"T_fd73f7f0_03fc_11ef_bdbb_96000040dfb6row9_col6\" class=\"data row9 col6\" ></td>\n",
       "                        <td id=\"T_fd73f7f0_03fc_11ef_bdbb_96000040dfb6row9_col7\" class=\"data row9 col7\" ></td>\n",
       "                        <td id=\"T_fd73f7f0_03fc_11ef_bdbb_96000040dfb6row9_col8\" class=\"data row9 col8\" ></td>\n",
       "                        <td id=\"T_fd73f7f0_03fc_11ef_bdbb_96000040dfb6row9_col9\" class=\"data row9 col9\" ></td>\n",
       "                        <td id=\"T_fd73f7f0_03fc_11ef_bdbb_96000040dfb6row9_col10\" class=\"data row9 col10\" ></td>\n",
       "                        <td id=\"T_fd73f7f0_03fc_11ef_bdbb_96000040dfb6row9_col11\" class=\"data row9 col11\" ></td>\n",
       "                        <td id=\"T_fd73f7f0_03fc_11ef_bdbb_96000040dfb6row9_col12\" class=\"data row9 col12\" ></td>\n",
       "                        <td id=\"T_fd73f7f0_03fc_11ef_bdbb_96000040dfb6row9_col13\" class=\"data row9 col13\" ></td>\n",
       "                        <td id=\"T_fd73f7f0_03fc_11ef_bdbb_96000040dfb6row9_col14\" class=\"data row9 col14\" ></td>\n",
       "            </tr>\n",
       "            <tr>\n",
       "                        <th id=\"T_fd73f7f0_03fc_11ef_bdbb_96000040dfb6level0_row10\" class=\"row_heading level0 row10\" >2020-09-19 00:00:00</th>\n",
       "                        <td id=\"T_fd73f7f0_03fc_11ef_bdbb_96000040dfb6row10_col0\" class=\"data row10 col0\" >100.00%</td>\n",
       "                        <td id=\"T_fd73f7f0_03fc_11ef_bdbb_96000040dfb6row10_col1\" class=\"data row10 col1\" >1.84%</td>\n",
       "                        <td id=\"T_fd73f7f0_03fc_11ef_bdbb_96000040dfb6row10_col2\" class=\"data row10 col2\" >3.55%</td>\n",
       "                        <td id=\"T_fd73f7f0_03fc_11ef_bdbb_96000040dfb6row10_col3\" class=\"data row10 col3\" >4.71%</td>\n",
       "                        <td id=\"T_fd73f7f0_03fc_11ef_bdbb_96000040dfb6row10_col4\" class=\"data row10 col4\" >3.49%</td>\n",
       "                        <td id=\"T_fd73f7f0_03fc_11ef_bdbb_96000040dfb6row10_col5\" class=\"data row10 col5\" ></td>\n",
       "                        <td id=\"T_fd73f7f0_03fc_11ef_bdbb_96000040dfb6row10_col6\" class=\"data row10 col6\" ></td>\n",
       "                        <td id=\"T_fd73f7f0_03fc_11ef_bdbb_96000040dfb6row10_col7\" class=\"data row10 col7\" ></td>\n",
       "                        <td id=\"T_fd73f7f0_03fc_11ef_bdbb_96000040dfb6row10_col8\" class=\"data row10 col8\" ></td>\n",
       "                        <td id=\"T_fd73f7f0_03fc_11ef_bdbb_96000040dfb6row10_col9\" class=\"data row10 col9\" ></td>\n",
       "                        <td id=\"T_fd73f7f0_03fc_11ef_bdbb_96000040dfb6row10_col10\" class=\"data row10 col10\" ></td>\n",
       "                        <td id=\"T_fd73f7f0_03fc_11ef_bdbb_96000040dfb6row10_col11\" class=\"data row10 col11\" ></td>\n",
       "                        <td id=\"T_fd73f7f0_03fc_11ef_bdbb_96000040dfb6row10_col12\" class=\"data row10 col12\" ></td>\n",
       "                        <td id=\"T_fd73f7f0_03fc_11ef_bdbb_96000040dfb6row10_col13\" class=\"data row10 col13\" ></td>\n",
       "                        <td id=\"T_fd73f7f0_03fc_11ef_bdbb_96000040dfb6row10_col14\" class=\"data row10 col14\" ></td>\n",
       "            </tr>\n",
       "            <tr>\n",
       "                        <th id=\"T_fd73f7f0_03fc_11ef_bdbb_96000040dfb6level0_row11\" class=\"row_heading level0 row11\" >2020-09-20 00:00:00</th>\n",
       "                        <td id=\"T_fd73f7f0_03fc_11ef_bdbb_96000040dfb6row11_col0\" class=\"data row11 col0\" >100.00%</td>\n",
       "                        <td id=\"T_fd73f7f0_03fc_11ef_bdbb_96000040dfb6row11_col1\" class=\"data row11 col1\" >2.44%</td>\n",
       "                        <td id=\"T_fd73f7f0_03fc_11ef_bdbb_96000040dfb6row11_col2\" class=\"data row11 col2\" >4.34%</td>\n",
       "                        <td id=\"T_fd73f7f0_03fc_11ef_bdbb_96000040dfb6row11_col3\" class=\"data row11 col3\" >2.38%</td>\n",
       "                        <td id=\"T_fd73f7f0_03fc_11ef_bdbb_96000040dfb6row11_col4\" class=\"data row11 col4\" ></td>\n",
       "                        <td id=\"T_fd73f7f0_03fc_11ef_bdbb_96000040dfb6row11_col5\" class=\"data row11 col5\" ></td>\n",
       "                        <td id=\"T_fd73f7f0_03fc_11ef_bdbb_96000040dfb6row11_col6\" class=\"data row11 col6\" ></td>\n",
       "                        <td id=\"T_fd73f7f0_03fc_11ef_bdbb_96000040dfb6row11_col7\" class=\"data row11 col7\" ></td>\n",
       "                        <td id=\"T_fd73f7f0_03fc_11ef_bdbb_96000040dfb6row11_col8\" class=\"data row11 col8\" ></td>\n",
       "                        <td id=\"T_fd73f7f0_03fc_11ef_bdbb_96000040dfb6row11_col9\" class=\"data row11 col9\" ></td>\n",
       "                        <td id=\"T_fd73f7f0_03fc_11ef_bdbb_96000040dfb6row11_col10\" class=\"data row11 col10\" ></td>\n",
       "                        <td id=\"T_fd73f7f0_03fc_11ef_bdbb_96000040dfb6row11_col11\" class=\"data row11 col11\" ></td>\n",
       "                        <td id=\"T_fd73f7f0_03fc_11ef_bdbb_96000040dfb6row11_col12\" class=\"data row11 col12\" ></td>\n",
       "                        <td id=\"T_fd73f7f0_03fc_11ef_bdbb_96000040dfb6row11_col13\" class=\"data row11 col13\" ></td>\n",
       "                        <td id=\"T_fd73f7f0_03fc_11ef_bdbb_96000040dfb6row11_col14\" class=\"data row11 col14\" ></td>\n",
       "            </tr>\n",
       "            <tr>\n",
       "                        <th id=\"T_fd73f7f0_03fc_11ef_bdbb_96000040dfb6level0_row12\" class=\"row_heading level0 row12\" >2020-09-21 00:00:00</th>\n",
       "                        <td id=\"T_fd73f7f0_03fc_11ef_bdbb_96000040dfb6row12_col0\" class=\"data row12 col0\" >100.00%</td>\n",
       "                        <td id=\"T_fd73f7f0_03fc_11ef_bdbb_96000040dfb6row12_col1\" class=\"data row12 col1\" >1.89%</td>\n",
       "                        <td id=\"T_fd73f7f0_03fc_11ef_bdbb_96000040dfb6row12_col2\" class=\"data row12 col2\" >2.99%</td>\n",
       "                        <td id=\"T_fd73f7f0_03fc_11ef_bdbb_96000040dfb6row12_col3\" class=\"data row12 col3\" ></td>\n",
       "                        <td id=\"T_fd73f7f0_03fc_11ef_bdbb_96000040dfb6row12_col4\" class=\"data row12 col4\" ></td>\n",
       "                        <td id=\"T_fd73f7f0_03fc_11ef_bdbb_96000040dfb6row12_col5\" class=\"data row12 col5\" ></td>\n",
       "                        <td id=\"T_fd73f7f0_03fc_11ef_bdbb_96000040dfb6row12_col6\" class=\"data row12 col6\" ></td>\n",
       "                        <td id=\"T_fd73f7f0_03fc_11ef_bdbb_96000040dfb6row12_col7\" class=\"data row12 col7\" ></td>\n",
       "                        <td id=\"T_fd73f7f0_03fc_11ef_bdbb_96000040dfb6row12_col8\" class=\"data row12 col8\" ></td>\n",
       "                        <td id=\"T_fd73f7f0_03fc_11ef_bdbb_96000040dfb6row12_col9\" class=\"data row12 col9\" ></td>\n",
       "                        <td id=\"T_fd73f7f0_03fc_11ef_bdbb_96000040dfb6row12_col10\" class=\"data row12 col10\" ></td>\n",
       "                        <td id=\"T_fd73f7f0_03fc_11ef_bdbb_96000040dfb6row12_col11\" class=\"data row12 col11\" ></td>\n",
       "                        <td id=\"T_fd73f7f0_03fc_11ef_bdbb_96000040dfb6row12_col12\" class=\"data row12 col12\" ></td>\n",
       "                        <td id=\"T_fd73f7f0_03fc_11ef_bdbb_96000040dfb6row12_col13\" class=\"data row12 col13\" ></td>\n",
       "                        <td id=\"T_fd73f7f0_03fc_11ef_bdbb_96000040dfb6row12_col14\" class=\"data row12 col14\" ></td>\n",
       "            </tr>\n",
       "            <tr>\n",
       "                        <th id=\"T_fd73f7f0_03fc_11ef_bdbb_96000040dfb6level0_row13\" class=\"row_heading level0 row13\" >2020-09-22 00:00:00</th>\n",
       "                        <td id=\"T_fd73f7f0_03fc_11ef_bdbb_96000040dfb6row13_col0\" class=\"data row13 col0\" >100.00%</td>\n",
       "                        <td id=\"T_fd73f7f0_03fc_11ef_bdbb_96000040dfb6row13_col1\" class=\"data row13 col1\" >0.85%</td>\n",
       "                        <td id=\"T_fd73f7f0_03fc_11ef_bdbb_96000040dfb6row13_col2\" class=\"data row13 col2\" ></td>\n",
       "                        <td id=\"T_fd73f7f0_03fc_11ef_bdbb_96000040dfb6row13_col3\" class=\"data row13 col3\" ></td>\n",
       "                        <td id=\"T_fd73f7f0_03fc_11ef_bdbb_96000040dfb6row13_col4\" class=\"data row13 col4\" ></td>\n",
       "                        <td id=\"T_fd73f7f0_03fc_11ef_bdbb_96000040dfb6row13_col5\" class=\"data row13 col5\" ></td>\n",
       "                        <td id=\"T_fd73f7f0_03fc_11ef_bdbb_96000040dfb6row13_col6\" class=\"data row13 col6\" ></td>\n",
       "                        <td id=\"T_fd73f7f0_03fc_11ef_bdbb_96000040dfb6row13_col7\" class=\"data row13 col7\" ></td>\n",
       "                        <td id=\"T_fd73f7f0_03fc_11ef_bdbb_96000040dfb6row13_col8\" class=\"data row13 col8\" ></td>\n",
       "                        <td id=\"T_fd73f7f0_03fc_11ef_bdbb_96000040dfb6row13_col9\" class=\"data row13 col9\" ></td>\n",
       "                        <td id=\"T_fd73f7f0_03fc_11ef_bdbb_96000040dfb6row13_col10\" class=\"data row13 col10\" ></td>\n",
       "                        <td id=\"T_fd73f7f0_03fc_11ef_bdbb_96000040dfb6row13_col11\" class=\"data row13 col11\" ></td>\n",
       "                        <td id=\"T_fd73f7f0_03fc_11ef_bdbb_96000040dfb6row13_col12\" class=\"data row13 col12\" ></td>\n",
       "                        <td id=\"T_fd73f7f0_03fc_11ef_bdbb_96000040dfb6row13_col13\" class=\"data row13 col13\" ></td>\n",
       "                        <td id=\"T_fd73f7f0_03fc_11ef_bdbb_96000040dfb6row13_col14\" class=\"data row13 col14\" ></td>\n",
       "            </tr>\n",
       "            <tr>\n",
       "                        <th id=\"T_fd73f7f0_03fc_11ef_bdbb_96000040dfb6level0_row14\" class=\"row_heading level0 row14\" >2020-09-23 00:00:00</th>\n",
       "                        <td id=\"T_fd73f7f0_03fc_11ef_bdbb_96000040dfb6row14_col0\" class=\"data row14 col0\" >100.00%</td>\n",
       "                        <td id=\"T_fd73f7f0_03fc_11ef_bdbb_96000040dfb6row14_col1\" class=\"data row14 col1\" ></td>\n",
       "                        <td id=\"T_fd73f7f0_03fc_11ef_bdbb_96000040dfb6row14_col2\" class=\"data row14 col2\" ></td>\n",
       "                        <td id=\"T_fd73f7f0_03fc_11ef_bdbb_96000040dfb6row14_col3\" class=\"data row14 col3\" ></td>\n",
       "                        <td id=\"T_fd73f7f0_03fc_11ef_bdbb_96000040dfb6row14_col4\" class=\"data row14 col4\" ></td>\n",
       "                        <td id=\"T_fd73f7f0_03fc_11ef_bdbb_96000040dfb6row14_col5\" class=\"data row14 col5\" ></td>\n",
       "                        <td id=\"T_fd73f7f0_03fc_11ef_bdbb_96000040dfb6row14_col6\" class=\"data row14 col6\" ></td>\n",
       "                        <td id=\"T_fd73f7f0_03fc_11ef_bdbb_96000040dfb6row14_col7\" class=\"data row14 col7\" ></td>\n",
       "                        <td id=\"T_fd73f7f0_03fc_11ef_bdbb_96000040dfb6row14_col8\" class=\"data row14 col8\" ></td>\n",
       "                        <td id=\"T_fd73f7f0_03fc_11ef_bdbb_96000040dfb6row14_col9\" class=\"data row14 col9\" ></td>\n",
       "                        <td id=\"T_fd73f7f0_03fc_11ef_bdbb_96000040dfb6row14_col10\" class=\"data row14 col10\" ></td>\n",
       "                        <td id=\"T_fd73f7f0_03fc_11ef_bdbb_96000040dfb6row14_col11\" class=\"data row14 col11\" ></td>\n",
       "                        <td id=\"T_fd73f7f0_03fc_11ef_bdbb_96000040dfb6row14_col12\" class=\"data row14 col12\" ></td>\n",
       "                        <td id=\"T_fd73f7f0_03fc_11ef_bdbb_96000040dfb6row14_col13\" class=\"data row14 col13\" ></td>\n",
       "                        <td id=\"T_fd73f7f0_03fc_11ef_bdbb_96000040dfb6row14_col14\" class=\"data row14 col14\" ></td>\n",
       "            </tr>\n",
       "    </tbody></table>"
      ],
      "text/plain": [
       "<pandas.io.formats.style.Styler at 0x7ff87566df60>"
      ]
     },
     "execution_count": 16,
     "metadata": {},
     "output_type": "execute_result"
    }
   ],
   "source": [
    "calculate_retention(reg_data, auth_data, date_start = '2020-09-09', date_end = '2020-09-23')"
   ]
  },
  {
   "cell_type": "markdown",
   "metadata": {},
   "source": [
    "# Задание 2\n",
    "Имеются результаты A/B теста, в котором двум группам пользователей предлагались различные наборы акционных предложений. Известно, что ARPU в тестовой группе выше на 5%, чем в контрольной. При этом в контрольной группе 1928 игроков из 202103 оказались платящими, а в тестовой – 1805 из 202667.\n",
    "\n",
    "Какой набор предложений можно считать лучшим? Какие метрики стоит проанализировать для принятия правильного решения и как?"
   ]
  },
  {
   "cell_type": "code",
   "execution_count": 17,
   "metadata": {},
   "outputs": [],
   "source": [
    "# читаем файл\n",
    "# используем api \n",
    "base_url = 'https://cloud-api.yandex.net/v1/disk/public/resources/download?' \n",
    "public_key = 'https://disk.yandex.ru/d/SOkIsD5A8xlI7Q' \n",
    " \n",
    "# получаем url \n",
    "final_url = base_url + urlencode(dict(public_key=public_key)) \n",
    "response = requests.get(final_url) \n",
    "download_url = response.json()['href'] \n",
    " \n",
    "# загружаем файл в df \n",
    "download_response = requests.get(download_url) \n",
    "df = pd.read_csv(download_url, sep=';') "
   ]
  },
  {
   "cell_type": "code",
   "execution_count": 18,
   "metadata": {},
   "outputs": [
    {
     "data": {
      "text/html": [
       "<div>\n",
       "<style scoped>\n",
       "    .dataframe tbody tr th:only-of-type {\n",
       "        vertical-align: middle;\n",
       "    }\n",
       "\n",
       "    .dataframe tbody tr th {\n",
       "        vertical-align: top;\n",
       "    }\n",
       "\n",
       "    .dataframe thead th {\n",
       "        text-align: right;\n",
       "    }\n",
       "</style>\n",
       "<table border=\"1\" class=\"dataframe\">\n",
       "  <thead>\n",
       "    <tr style=\"text-align: right;\">\n",
       "      <th></th>\n",
       "      <th>user_id</th>\n",
       "      <th>revenue</th>\n",
       "      <th>testgroup</th>\n",
       "    </tr>\n",
       "  </thead>\n",
       "  <tbody>\n",
       "    <tr>\n",
       "      <th>0</th>\n",
       "      <td>1</td>\n",
       "      <td>0</td>\n",
       "      <td>b</td>\n",
       "    </tr>\n",
       "    <tr>\n",
       "      <th>1</th>\n",
       "      <td>2</td>\n",
       "      <td>0</td>\n",
       "      <td>a</td>\n",
       "    </tr>\n",
       "    <tr>\n",
       "      <th>2</th>\n",
       "      <td>3</td>\n",
       "      <td>0</td>\n",
       "      <td>a</td>\n",
       "    </tr>\n",
       "    <tr>\n",
       "      <th>3</th>\n",
       "      <td>4</td>\n",
       "      <td>0</td>\n",
       "      <td>b</td>\n",
       "    </tr>\n",
       "    <tr>\n",
       "      <th>4</th>\n",
       "      <td>5</td>\n",
       "      <td>0</td>\n",
       "      <td>b</td>\n",
       "    </tr>\n",
       "  </tbody>\n",
       "</table>\n",
       "</div>"
      ],
      "text/plain": [
       "   user_id  revenue testgroup\n",
       "0        1        0         b\n",
       "1        2        0         a\n",
       "2        3        0         a\n",
       "3        4        0         b\n",
       "4        5        0         b"
      ]
     },
     "execution_count": 18,
     "metadata": {},
     "output_type": "execute_result"
    }
   ],
   "source": [
    "# смотрим, как выглядит датасет\n",
    "df.head()"
   ]
  },
  {
   "cell_type": "code",
   "execution_count": 19,
   "metadata": {},
   "outputs": [
    {
     "data": {
      "text/plain": [
       "(404770, 3)"
      ]
     },
     "execution_count": 19,
     "metadata": {},
     "output_type": "execute_result"
    }
   ],
   "source": [
    "# смотрим размер датасета\n",
    "df.shape"
   ]
  },
  {
   "cell_type": "code",
   "execution_count": 20,
   "metadata": {},
   "outputs": [
    {
     "data": {
      "text/plain": [
       "user_id      0\n",
       "revenue      0\n",
       "testgroup    0\n",
       "dtype: int64"
      ]
     },
     "execution_count": 20,
     "metadata": {},
     "output_type": "execute_result"
    }
   ],
   "source": [
    "# смотрим количество пустых значений\n",
    "df.isna().sum()"
   ]
  },
  {
   "cell_type": "markdown",
   "metadata": {},
   "source": [
    "В датасете есть исходная колонка с показателем выручки 'revenue', посмотрим на распределение этих данных с помощью графиков"
   ]
  },
  {
   "cell_type": "code",
   "execution_count": 21,
   "metadata": {},
   "outputs": [
    {
     "data": {
      "text/plain": [
       "<matplotlib.axes._subplots.AxesSubplot at 0x7ff875334a20>"
      ]
     },
     "execution_count": 21,
     "metadata": {},
     "output_type": "execute_result"
    },
    {
     "data": {
      "image/png": "[encoded data removed]",
      "text/plain": [
       "<Figure size 1440x288 with 1 Axes>"
      ]
     },
     "metadata": {
      "needs_background": "light"
     },
     "output_type": "display_data"
    }
   ],
   "source": [
    "plt.figure(figsize=(20, 4))\n",
    "sns.boxplot(data=df.query(\"testgroup == 'a' & revenue>0\")[['revenue']])"
   ]
  },
  {
   "cell_type": "code",
   "execution_count": 22,
   "metadata": {},
   "outputs": [
    {
     "name": "stdout",
     "output_type": "stream",
     "text": [
      "Максимальная выручка в группе a: 37433 \n",
      "Медианная выручка в группе a: 311.0 \n",
      "Минимальная выручка в группе a: 200\n"
     ]
    }
   ],
   "source": [
    "# видим, что в контрольной группе a имеется выброс, а значит, данные распределены неравномерно.\n",
    "# найдем максимальное, медианное и минимальное значение выручки в группе а.\n",
    "print(\n",
    "'Максимальная выручка в группе a:', df.query('testgroup == \"a\" & revenue > 0')['revenue'].max(),   \n",
    "'\\nМедианная выручка в группе a:', df.query('testgroup == \"a\" & revenue > 0')['revenue'].median(),   \n",
    "'\\nМинимальная выручка в группе a:', df.query('testgroup == \"a\" & revenue > 0')['revenue'].min(),\n",
    ")"
   ]
  },
  {
   "cell_type": "code",
   "execution_count": 23,
   "metadata": {},
   "outputs": [
    {
     "data": {
      "text/plain": [
       "<matplotlib.axes._subplots.AxesSubplot at 0x7ff874987048>"
      ]
     },
     "execution_count": 23,
     "metadata": {},
     "output_type": "execute_result"
    },
    {
     "data": {
      "image/png": "[encoded data removed]",
      "text/plain": [
       "<Figure size 1440x288 with 1 Axes>"
      ]
     },
     "metadata": {
      "needs_background": "light"
     },
     "output_type": "display_data"
    }
   ],
   "source": [
    "# теперь сделаем то же самое с группой b\n",
    "# строим график\n",
    "plt.figure(figsize=(20, 4))\n",
    "sns.boxplot(data=df.query(\"testgroup == 'b' & revenue>0\")[['revenue']])"
   ]
  },
  {
   "cell_type": "code",
   "execution_count": 24,
   "metadata": {},
   "outputs": [
    {
     "name": "stdout",
     "output_type": "stream",
     "text": [
      "Максимальная выручка в группе a: 4000 \n",
      "Медианная выручка в группе a: 3022.0 \n",
      "Минимальная выручка в группе a: 2000\n"
     ]
    }
   ],
   "source": [
    "# смотрим максимальное, медианное и минимальное значение выручки в группе b\n",
    "print(\n",
    "'Максимальная выручка в группе a:', df.query('testgroup == \"b\" & revenue > 0')['revenue'].max(),   \n",
    "'\\nМедианная выручка в группе a:', df.query('testgroup == \"b\" & revenue > 0')['revenue'].median(),   \n",
    "'\\nМинимальная выручка в группе a:', df.query('testgroup == \"b\" & revenue > 0')['revenue'].min(),\n",
    ")"
   ]
  },
  {
   "cell_type": "markdown",
   "metadata": {},
   "source": [
    "Можем заметить, что медианное значение выручки в группе b почти в 10 раз выше, чем медианное значение выручки в группе a.\n",
    "\n",
    "Кроме того, в группе a распределение значений сильно неравномерное: покупки в этой группе либо слишком дорогие, либо слишком недорогие.\n",
    "\n",
    "В то время как в группе b значения распределены равномерно, размах графика небольшой."
   ]
  },
  {
   "cell_type": "code",
   "execution_count": 25,
   "metadata": {},
   "outputs": [
    {
     "data": {
      "text/html": [
       "<div>\n",
       "<style scoped>\n",
       "    .dataframe tbody tr th:only-of-type {\n",
       "        vertical-align: middle;\n",
       "    }\n",
       "\n",
       "    .dataframe tbody tr th {\n",
       "        vertical-align: top;\n",
       "    }\n",
       "\n",
       "    .dataframe thead th {\n",
       "        text-align: right;\n",
       "    }\n",
       "</style>\n",
       "<table border=\"1\" class=\"dataframe\">\n",
       "  <thead>\n",
       "    <tr style=\"text-align: right;\">\n",
       "      <th></th>\n",
       "      <th>testgroup</th>\n",
       "      <th>all_users</th>\n",
       "    </tr>\n",
       "  </thead>\n",
       "  <tbody>\n",
       "    <tr>\n",
       "      <th>0</th>\n",
       "      <td>a</td>\n",
       "      <td>202103</td>\n",
       "    </tr>\n",
       "    <tr>\n",
       "      <th>1</th>\n",
       "      <td>b</td>\n",
       "      <td>202667</td>\n",
       "    </tr>\n",
       "  </tbody>\n",
       "</table>\n",
       "</div>"
      ],
      "text/plain": [
       "  testgroup  all_users\n",
       "0         a     202103\n",
       "1         b     202667"
      ]
     },
     "execution_count": 25,
     "metadata": {},
     "output_type": "execute_result"
    }
   ],
   "source": [
    "# считаем общее количество пользователей в каждой группе\n",
    "users_count_df = df.groupby('testgroup',as_index=False)\\\n",
    "                   .agg({'user_id':'nunique'})\\\n",
    "                   .rename(columns={'user_id':'all_users'})\n",
    "users_count_df"
   ]
  },
  {
   "cell_type": "code",
   "execution_count": 26,
   "metadata": {},
   "outputs": [
    {
     "data": {
      "text/html": [
       "<div>\n",
       "<style scoped>\n",
       "    .dataframe tbody tr th:only-of-type {\n",
       "        vertical-align: middle;\n",
       "    }\n",
       "\n",
       "    .dataframe tbody tr th {\n",
       "        vertical-align: top;\n",
       "    }\n",
       "\n",
       "    .dataframe thead th {\n",
       "        text-align: right;\n",
       "    }\n",
       "</style>\n",
       "<table border=\"1\" class=\"dataframe\">\n",
       "  <thead>\n",
       "    <tr style=\"text-align: right;\">\n",
       "      <th></th>\n",
       "      <th>testgroup</th>\n",
       "      <th>paying_users</th>\n",
       "      <th>revenue</th>\n",
       "    </tr>\n",
       "  </thead>\n",
       "  <tbody>\n",
       "    <tr>\n",
       "      <th>0</th>\n",
       "      <td>a</td>\n",
       "      <td>1928</td>\n",
       "      <td>5136189</td>\n",
       "    </tr>\n",
       "    <tr>\n",
       "      <th>1</th>\n",
       "      <td>b</td>\n",
       "      <td>1805</td>\n",
       "      <td>5421603</td>\n",
       "    </tr>\n",
       "  </tbody>\n",
       "</table>\n",
       "</div>"
      ],
      "text/plain": [
       "  testgroup  paying_users  revenue\n",
       "0         a          1928  5136189\n",
       "1         b          1805  5421603"
      ]
     },
     "execution_count": 26,
     "metadata": {},
     "output_type": "execute_result"
    }
   ],
   "source": [
    "# группируем исходный датасет и уберем тех пользователей, у которых выручка равнялась нулю\n",
    "paying_users_df = df.query('revenue > 0') \\\n",
    "               .groupby('testgroup',as_index=False) \\\n",
    "               .agg({'user_id':'nunique', 'revenue': 'sum'}) \\\n",
    "               .rename(columns={'user_id':'paying_users'})\n",
    "paying_users_df"
   ]
  },
  {
   "cell_type": "code",
   "execution_count": 27,
   "metadata": {},
   "outputs": [
    {
     "data": {
      "text/html": [
       "<div>\n",
       "<style scoped>\n",
       "    .dataframe tbody tr th:only-of-type {\n",
       "        vertical-align: middle;\n",
       "    }\n",
       "\n",
       "    .dataframe tbody tr th {\n",
       "        vertical-align: top;\n",
       "    }\n",
       "\n",
       "    .dataframe thead th {\n",
       "        text-align: right;\n",
       "    }\n",
       "</style>\n",
       "<table border=\"1\" class=\"dataframe\">\n",
       "  <thead>\n",
       "    <tr style=\"text-align: right;\">\n",
       "      <th></th>\n",
       "      <th>testgroup</th>\n",
       "      <th>all_users</th>\n",
       "      <th>paying_users</th>\n",
       "      <th>revenue</th>\n",
       "    </tr>\n",
       "  </thead>\n",
       "  <tbody>\n",
       "    <tr>\n",
       "      <th>0</th>\n",
       "      <td>a</td>\n",
       "      <td>202103</td>\n",
       "      <td>1928</td>\n",
       "      <td>5136189</td>\n",
       "    </tr>\n",
       "    <tr>\n",
       "      <th>1</th>\n",
       "      <td>b</td>\n",
       "      <td>202667</td>\n",
       "      <td>1805</td>\n",
       "      <td>5421603</td>\n",
       "    </tr>\n",
       "  </tbody>\n",
       "</table>\n",
       "</div>"
      ],
      "text/plain": [
       "  testgroup  all_users  paying_users  revenue\n",
       "0         a     202103          1928  5136189\n",
       "1         b     202667          1805  5421603"
      ]
     },
     "execution_count": 27,
     "metadata": {},
     "output_type": "execute_result"
    }
   ],
   "source": [
    "# соединяем два датафрейма\n",
    "test_groups = users_count_df.merge(paying_users_df, how = 'left', on = 'testgroup')\n",
    "test_groups"
   ]
  },
  {
   "cell_type": "code",
   "execution_count": 28,
   "metadata": {},
   "outputs": [],
   "source": [
    "# добавим колонку со значением конверсии в покупку\n",
    "test_groups['CR'] = (test_groups['paying_users'] / test_groups['all_users'] * 100).round(2)"
   ]
  },
  {
   "cell_type": "code",
   "execution_count": 29,
   "metadata": {},
   "outputs": [],
   "source": [
    "# добавим колонку со средним значением выручки на пользователя\n",
    "test_groups['ARPU'] = (df.groupby('testgroup',as_index=False)\\\n",
    "                    .agg({'revenue':'mean'})).round(2).revenue"
   ]
  },
  {
   "cell_type": "code",
   "execution_count": 30,
   "metadata": {},
   "outputs": [],
   "source": [
    "# добавим колонку со средним значением выручки на платящего пользователя\n",
    "test_groups['ARPPU'] = (df.query('revenue > 0')\\\n",
    "                    .groupby('testgroup',as_index=False)\\\n",
    "                    .agg({'revenue':'mean'})).round(2).revenue"
   ]
  },
  {
   "cell_type": "code",
   "execution_count": 31,
   "metadata": {},
   "outputs": [
    {
     "data": {
      "text/html": [
       "<div>\n",
       "<style scoped>\n",
       "    .dataframe tbody tr th:only-of-type {\n",
       "        vertical-align: middle;\n",
       "    }\n",
       "\n",
       "    .dataframe tbody tr th {\n",
       "        vertical-align: top;\n",
       "    }\n",
       "\n",
       "    .dataframe thead th {\n",
       "        text-align: right;\n",
       "    }\n",
       "</style>\n",
       "<table border=\"1\" class=\"dataframe\">\n",
       "  <thead>\n",
       "    <tr style=\"text-align: right;\">\n",
       "      <th></th>\n",
       "      <th>testgroup</th>\n",
       "      <th>all_users</th>\n",
       "      <th>paying_users</th>\n",
       "      <th>revenue</th>\n",
       "      <th>CR</th>\n",
       "      <th>ARPU</th>\n",
       "      <th>ARPPU</th>\n",
       "    </tr>\n",
       "  </thead>\n",
       "  <tbody>\n",
       "    <tr>\n",
       "      <th>0</th>\n",
       "      <td>a</td>\n",
       "      <td>202103</td>\n",
       "      <td>1928</td>\n",
       "      <td>5136189</td>\n",
       "      <td>0.95</td>\n",
       "      <td>25.41</td>\n",
       "      <td>2664.00</td>\n",
       "    </tr>\n",
       "    <tr>\n",
       "      <th>1</th>\n",
       "      <td>b</td>\n",
       "      <td>202667</td>\n",
       "      <td>1805</td>\n",
       "      <td>5421603</td>\n",
       "      <td>0.89</td>\n",
       "      <td>26.75</td>\n",
       "      <td>3003.66</td>\n",
       "    </tr>\n",
       "  </tbody>\n",
       "</table>\n",
       "</div>"
      ],
      "text/plain": [
       "  testgroup  all_users  paying_users  revenue    CR   ARPU    ARPPU\n",
       "0         a     202103          1928  5136189  0.95  25.41  2664.00\n",
       "1         b     202667          1805  5421603  0.89  26.75  3003.66"
      ]
     },
     "execution_count": 31,
     "metadata": {},
     "output_type": "execute_result"
    }
   ],
   "source": [
    "# смотрим итог\n",
    "test_groups"
   ]
  },
  {
   "cell_type": "markdown",
   "metadata": {},
   "source": [
    "Согласно исходным данным, в контрольной группе 1928 платящих пользователей, а в тестовой – 1805. Поэтому делаем заключение, что группа А - это контрольная группа, а группа B - тестовая."
   ]
  },
  {
   "cell_type": "code",
   "execution_count": 32,
   "metadata": {},
   "outputs": [
    {
     "data": {
      "text/plain": [
       "<matplotlib.axes._subplots.AxesSubplot at 0x7ff874432438>"
      ]
     },
     "execution_count": 32,
     "metadata": {},
     "output_type": "execute_result"
    },
    {
     "data": {
      "image/png": "[encoded data removed]",
      "text/plain": [
       "<Figure size 1152x288 with 1 Axes>"
      ]
     },
     "metadata": {
      "needs_background": "light"
     },
     "output_type": "display_data"
    },
    {
     "data": {
      "image/png": "[encoded data removed]",
      "text/plain": [
       "<Figure size 1152x288 with 1 Axes>"
      ]
     },
     "metadata": {
      "needs_background": "light"
     },
     "output_type": "display_data"
    },
    {
     "data": {
      "image/png": "[encoded data removed]",
      "text/plain": [
       "<Figure size 1152x288 with 1 Axes>"
      ]
     },
     "metadata": {
      "needs_background": "light"
     },
     "output_type": "display_data"
    }
   ],
   "source": [
    "# сделаем графики для визуализации показателей CR, ARPU, ARPPU\n",
    "plt.figure(figsize=(16, 4))\n",
    "sns.barplot(x='CR', y='testgroup', data=test_groups)\n",
    "\n",
    "plt.figure(figsize=(16, 4))\n",
    "sns.barplot(x='ARPU', y='testgroup', data=test_groups)\n",
    "\n",
    "plt.figure(figsize=(16, 4))\n",
    "sns.barplot(x='ARPPU', y='testgroup', data=test_groups)"
   ]
  },
  {
   "cell_type": "markdown",
   "metadata": {},
   "source": [
    "Видим, что количество покупок в группе a выше, чем в группе b, но выручка в разрезе на пользователя и платящего пользователя выше в группе b.\n",
    "\n",
    "Необходимо проверить, являются ли эти различия в ARPU и ARPPU статистически значимыми. Для проверки гипотез будем использовать t-test.\n",
    "\n",
    "Сначала будем работать с ARPU."
   ]
  },
  {
   "cell_type": "markdown",
   "metadata": {},
   "source": [
    "### Нулевая гипотеза: ARPU в контрольной(a) и ARPU в тестовой(b) группах не различаются."
   ]
  },
  {
   "cell_type": "code",
   "execution_count": 33,
   "metadata": {},
   "outputs": [
    {
     "data": {
      "image/png": "[encoded data removed]",
      "text/plain": [
       "<Figure size 1152x288 with 1 Axes>"
      ]
     },
     "metadata": {
      "needs_background": "light"
     },
     "output_type": "display_data"
    },
    {
     "name": "stdout",
     "output_type": "stream",
     "text": [
      "Нулевая гипотеза не отклоняется, нет статистически значимой разницы\n"
     ]
    }
   ],
   "source": [
    "# используем библиотеку scipy и модуль stats\n",
    "a = 0.05\n",
    "p = (stats.ttest_ind(df.query('testgroup == \"a\"')['revenue'],\\\n",
    "                     df.query('testgroup == \"b\"')['revenue'])[1]).round(2)\n",
    "\n",
    "fig, ax = plt.subplots(figsize=(16, 4))\n",
    "ax.barh([''],[p])\n",
    "\n",
    "ax.axvline(0.05, color='r')\n",
    "\n",
    "ax.set(xlim=[0, 0.06], xlabel='p-value')\n",
    "ax.text(0.025, 0.025, p, color='black', fontsize=15)\n",
    "\n",
    "plt.show()\n",
    "\n",
    "if p < a:\n",
    "    print('Нулевая гипотеза отклоняется, есть статистически значимая разница')\n",
    "else:\n",
    "    print('Нулевая гипотеза не отклоняется, нет статистически значимой разницы')\n",
    "    "
   ]
  },
  {
   "cell_type": "markdown",
   "metadata": {},
   "source": [
    "#### t-test не выявил статистически значимых различий между ARPU в контрольной(a) и ARPU в тестовой(b) группах."
   ]
  },
  {
   "cell_type": "markdown",
   "metadata": {},
   "source": [
    "Теперь проверим, являются ли различия в ARPPU между группами статистически значимыми. "
   ]
  },
  {
   "cell_type": "markdown",
   "metadata": {},
   "source": [
    "### Нулевая гипотеза: ARPPU в контрольной(a) и ARPPU в тестовой(b) группах не различаются."
   ]
  },
  {
   "cell_type": "code",
   "execution_count": 34,
   "metadata": {},
   "outputs": [
    {
     "data": {
      "image/png": "[encoded data removed]",
      "text/plain": [
       "<Figure size 1152x288 with 1 Axes>"
      ]
     },
     "metadata": {
      "needs_background": "light"
     },
     "output_type": "display_data"
    },
    {
     "name": "stdout",
     "output_type": "stream",
     "text": [
      "Нулевая гипотеза не отклоняется, нет статистически значимой разницы\n"
     ]
    }
   ],
   "source": [
    "a = 0.05\n",
    "p = (stats.ttest_ind(df.query('testgroup == \"a\" & revenue>0')['revenue'],\\\n",
    "                     df.query('testgroup == \"b\" & revenue>0')['revenue'])[1]).round(2)\n",
    "\n",
    "fig, ax = plt.subplots(figsize=(16, 4))\n",
    "ax.barh([''],[p])\n",
    "\n",
    "ax.axvline(0.05, color='r')\n",
    "\n",
    "ax.set(xlim=[0, 0.06], xlabel='p-value')\n",
    "ax.text(0.025, 0.025, p, color='black', fontsize=15)\n",
    "\n",
    "plt.show()\n",
    "\n",
    "if p < a:\n",
    "    print('Нулевая гипотеза отклоняется, есть статистически значимая разница')\n",
    "else:\n",
    "    print('Нулевая гипотеза не отклоняется, нет статистически значимой разницы')"
   ]
  },
  {
   "cell_type": "markdown",
   "metadata": {},
   "source": [
    "#### t-test также не выявил статистически значимых различий между ARPPU в контрольной(a) и ARPPU в тестовой(b) группах."
   ]
  },
  {
   "cell_type": "markdown",
   "metadata": {},
   "source": [
    "T-test не выявил статистически значимых различий ARPPU и ARPU в разрезе групп a и b.\n",
    "\n",
    "### Таким образом, на основании проведенного теста можно предположить, что набор акционных предложений никак не повлиял на метрики ARPPU и ARPU."
   ]
  },
  {
   "cell_type": "markdown",
   "metadata": {},
   "source": [
    "# Задание 3\n",
    "\n",
    "В игре Plants & Gardens каждый месяц проводятся тематические события, ограниченные по времени. В них игроки могут получить уникальные предметы для сада и персонажей, дополнительные монеты или бонусы. Для получения награды требуется пройти ряд уровней за определенное время. С помощью каких метрик можно оценить результаты последнего прошедшего события?\n",
    "\n",
    "Предположим, в другом событии мы усложнили механику событий так, что при каждой неудачной попытке выполнения уровня игрок будет откатываться на несколько уровней назад. Изменится ли набор метрик оценки результата? Если да, то как?"
   ]
  },
  {
   "cell_type": "markdown",
   "metadata": {},
   "source": [
    "#### В первую очередь необходимо отслеживать следующие метрики:\n",
    "\n",
    "1. Количество сессий всего и количество сессий на пользователя\n",
    "2. Средняя длительность сессии каждого пользователя\n",
    "3. Конверсия в покупку уникальных предметов, монет и бонусов (CR)\n",
    "4. Средняя выручка на пользователя (ARPU) и выручка на платящего пользователя (ARPPU), общая выручка\n",
    "5. Коэффициент удержания (Retention)\n",
    "6. Количество активных пользователей в день/неделю/месяц (DAU, WAU, MAU)\n",
    "\n",
    "Перечисленные метрики целесообразно отслеживать не только в период тематического события, но и в его отсутствие, чтобы была возможность сравнения показателей в разные периоды."
   ]
  },
  {
   "cell_type": "markdown",
   "metadata": {},
   "source": [
    "В случае, если при каждой неудачной попытке выполнения уровня игрок будет откатываться на несколько уровней назад, к указанным метрикам может добавиться количество игроков, которые \"откатились\", а также более подробное рассмотрение перечисленных метрик, относящихся к таким игрокам. \n",
    "\n",
    "В зависимости от получившихся результатов нужно будет рассмотреть возможность внедрения принципа \"отката\" на последующие тематические события либо отказ от такого принципа.\n"
   ]
  },
  {
   "cell_type": "code",
   "execution_count": null,
   "metadata": {},
   "outputs": [],
   "source": []
  }
 ],
 "metadata": {
  "kernelspec": {
   "display_name": "Python 3",
   "language": "python",
   "name": "python3"
  },
  "language_info": {
   "codemirror_mode": {
    "name": "ipython",
    "version": 3
   },
   "file_extension": ".py",
   "mimetype": "text/x-python",
   "name": "python",
   "nbconvert_exporter": "python",
   "pygments_lexer": "ipython3",
   "version": "3.7.3"
  }
 },
 "nbformat": 4,
 "nbformat_minor": 4
}
